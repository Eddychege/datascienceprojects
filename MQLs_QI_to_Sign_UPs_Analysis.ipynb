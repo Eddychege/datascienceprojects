{
  "nbformat": 4,
  "nbformat_minor": 0,
  "metadata": {
    "colab": {
      "provenance": [],
      "authorship_tag": "ABX9TyNVVChQNv2yOOPI6+2m9gbH",
      "include_colab_link": true
    },
    "kernelspec": {
      "name": "python3",
      "display_name": "Python 3"
    },
    "language_info": {
      "name": "python"
    }
  },
  "cells": [
    {
      "cell_type": "markdown",
      "metadata": {
        "id": "view-in-github",
        "colab_type": "text"
      },
      "source": [
        "<a href=\"https://colab.research.google.com/github/Eddychege/datascienceprojects/blob/main/MQLs_QI_to_Sign_UPs_Analysis.ipynb\" target=\"_parent\"><img src=\"https://colab.research.google.com/assets/colab-badge.svg\" alt=\"Open In Colab\"/></a>"
      ]
    },
    {
      "cell_type": "code",
      "execution_count": 1,
      "metadata": {
        "id": "lv3Jjg6CnD8u"
      },
      "outputs": [],
      "source": [
        "import pandas as pd"
      ]
    },
    {
      "cell_type": "code",
      "source": [
        "df = pd.read_csv('/content/MQL Q1.csv')"
      ],
      "metadata": {
        "id": "PfrbgvctnGod"
      },
      "execution_count": 4,
      "outputs": []
    },
    {
      "cell_type": "code",
      "source": [
        "print(df.head())\n",
        "print(df.info())\n",
        "print(df.shape)\n",
        "print(df.columns)"
      ],
      "metadata": {
        "colab": {
          "base_uri": "https://localhost:8080/"
        },
        "id": "T5XdddGxnaWU",
        "outputId": "1cc02db6-0113-4c48-f6d4-ec21b2462e1f"
      },
      "execution_count": 5,
      "outputs": [
        {
          "output_type": "stream",
          "name": "stdout",
          "text": [
            "     ` q1aqa1111111111` First Name Second Name                        Email  \\\n",
            "0  NaN        22/1/2025  \\nJoseph        Maina    jmwambugu34@gmail.com\\n\\n   \n",
            "1  NaN        22/1/2025     Esther     Wanjiru   estyerwanjiru100@gmail.com   \n",
            "2  NaN        22/1/2025  Fredrick      Micheni  \\nfredrickmicheni@gmail.com   \n",
            "3    1        22/1/2025      Mercy         Jnr        \\nmchemjor4@gmail.com   \n",
            "4    2        22/1/2025      Susan       Hiuhu     \\nsusanhiuhu82@gmail.com   \n",
            "\n",
            "   Phone Number                                Insurer  \\\n",
            "0  2.547818e+11                                    All   \n",
            "1  2.547178e+11                            APA Medical   \n",
            "2  2.541145e+11                                    APA   \n",
            "3  2.547262e+11                      Both PA and Motor   \n",
            "4  2.547900e+11  ICEA APA Jubilee Britam\\nPA Insurance   \n",
            "\n",
            "                                  Marketing Comments Sales Exec  \\\n",
            "0  Are you a licensed independent insurance agent...     Yvonne   \n",
            "1  Are you a licensed independent insurance agent...  Dalphine    \n",
            "2  Are you a licensed independent insurance agent...     Yvonne   \n",
            "3  Are you a licensed independent insurance agent...     Yvonne   \n",
            "4  Are you a licensed independent insurance agent...     Yvonne   \n",
            "\n",
            "                                              Status   Conversion  \\\n",
            "0  0727368136 his whatsapp number. Share the PA l...          NaN   \n",
            "1  Is interested and will join tomorrow's webinar...  Reach again   \n",
            "2             19/3/25 Not reachable but to follow up          NaN   \n",
            "3                      19/3/25 to follow up tomorrow          NaN   \n",
            "4                          19/3/25 to call ack later          NaN   \n",
            "\n",
            "  Added to sales ops  \n",
            "0              Done   \n",
            "1              Done   \n",
            "2              Done   \n",
            "3              Done   \n",
            "4              Done   \n",
            "<class 'pandas.core.frame.DataFrame'>\n",
            "RangeIndex: 170 entries, 0 to 169\n",
            "Data columns (total 12 columns):\n",
            " #   Column              Non-Null Count  Dtype  \n",
            "---  ------              --------------  -----  \n",
            " 0   `                   167 non-null    object \n",
            " 1   q1aqa1111111111`    116 non-null    object \n",
            " 2   First Name          115 non-null    object \n",
            " 3   Second Name         114 non-null    object \n",
            " 4   Email               115 non-null    object \n",
            " 5   Phone Number        115 non-null    float64\n",
            " 6   Insurer             24 non-null     object \n",
            " 7   Marketing Comments  113 non-null    object \n",
            " 8   Sales Exec          113 non-null    object \n",
            " 9   Status              112 non-null    object \n",
            " 10  Conversion          37 non-null     object \n",
            " 11  Added to sales ops  116 non-null    object \n",
            "dtypes: float64(1), object(11)\n",
            "memory usage: 16.1+ KB\n",
            "None\n",
            "(170, 12)\n",
            "Index(['`', 'q1aqa1111111111`', 'First Name', 'Second Name', 'Email',\n",
            "       'Phone Number', 'Insurer', 'Marketing Comments', 'Sales Exec', 'Status',\n",
            "       'Conversion', 'Added to sales ops'],\n",
            "      dtype='object')\n"
          ]
        }
      ]
    },
    {
      "cell_type": "code",
      "source": [
        "df1 = pd.read_csv('/content/1st_transaction_(forecasted_this_month)_listing (2).csv')"
      ],
      "metadata": {
        "id": "tJRSkrRjoDC2"
      },
      "execution_count": 6,
      "outputs": []
    },
    {
      "cell_type": "code",
      "source": [
        "print(df1.head())\n",
        "print(df1.shape)\n",
        "print(df1.info())\n",
        "print(df1.columns)"
      ],
      "metadata": {
        "colab": {
          "base_uri": "https://localhost:8080/"
        },
        "id": "mj3BziiopDeR",
        "outputId": "1697dc7f-129a-4e46-e2a1-81f5447743e4"
      },
      "execution_count": 7,
      "outputs": [
        {
          "output_type": "stream",
          "name": "stdout",
          "text": [
            "                          Name                       Agency    KYC Mobile  \\\n",
            "0              ERICK  KIPYEGON              ERICK  KIPYEGON     724076521   \n",
            "1                 BEVERL HONUR                 BEVERL HONUR  254745449685   \n",
            "2            ANN WAMBUI NGANGA          ANN WAMBUI NG'ANG'A  254112564877   \n",
            "3  BORN AGAIN INSURANCE AGENCY  BORN AGAIN INSURANCE AGENCY  254723818670   \n",
            "4         ELVIS AGESA MALIKISI         ELVIS AGESA MALIKISI  254727419101   \n",
            "\n",
            "                     KYC E-Mail   Status Created Date  Signup Date  \\\n",
            "0        kendagorkips@gmail.com  Sign-up  21-MAR-2025  21-MAR-2025   \n",
            "1    mbayakhasayabev2@gmail.com  Sign-up  08-JUL-2024  08-JUL-2024   \n",
            "2   annwambuinganga42@gmail.com  Sign-up  13-JUN-2024  13-JUN-2024   \n",
            "3  bornagaininsurance@gmail.com  Sign-up  26-JUL-2023  26-JUL-2023   \n",
            "4          elvisagera@gmail.com  Sign-up  20-JAN-2023  20-JAN-2023   \n",
            "\n",
            "     Sync Date  Days In Pipeline   Channel    Reffered By  \\\n",
            "0          NaN                66   Pending            NaN   \n",
            "1          NaN               322   Pending            NaN   \n",
            "2          NaN               347  Referral  Stephen Maina   \n",
            "3          NaN               670   Pending            NaN   \n",
            "4  20-JAN-2023               857   Pending            NaN   \n",
            "\n",
            "                                     Comment Details Comment Due Date  \n",
            "0  Took him through the app on how to get a quote...        5/19/2025  \n",
            "1                                                NaN              NaN  \n",
            "2                        She is looking for business        5/12/2025  \n",
            "3          he is willing and ready to work with us .         5/6/2025  \n",
            "4          he had issues with his app but now is oky         5/6/2025  \n",
            "(5, 13)\n",
            "<class 'pandas.core.frame.DataFrame'>\n",
            "RangeIndex: 5 entries, 0 to 4\n",
            "Data columns (total 13 columns):\n",
            " #   Column            Non-Null Count  Dtype \n",
            "---  ------            --------------  ----- \n",
            " 0   Name              5 non-null      object\n",
            " 1   Agency            5 non-null      object\n",
            " 2   KYC Mobile        5 non-null      int64 \n",
            " 3   KYC E-Mail        5 non-null      object\n",
            " 4   Status            5 non-null      object\n",
            " 5   Created Date      5 non-null      object\n",
            " 6   Signup Date       5 non-null      object\n",
            " 7   Sync Date         1 non-null      object\n",
            " 8   Days In Pipeline  5 non-null      int64 \n",
            " 9   Channel           5 non-null      object\n",
            " 10  Reffered By       1 non-null      object\n",
            " 11  Comment Details   4 non-null      object\n",
            " 12  Comment Due Date  4 non-null      object\n",
            "dtypes: int64(2), object(11)\n",
            "memory usage: 652.0+ bytes\n",
            "None\n",
            "Index(['Name', 'Agency', 'KYC Mobile', 'KYC E-Mail', 'Status', 'Created Date',\n",
            "       'Signup Date', 'Sync Date', 'Days In Pipeline', 'Channel',\n",
            "       'Reffered By', 'Comment Details', 'Comment Due Date'],\n",
            "      dtype='object')\n"
          ]
        }
      ]
    },
    {
      "cell_type": "code",
      "source": [
        "df2 = pd.read_csv('/content/1st_transaction_(no_forecast_this_month)_listing.csv')"
      ],
      "metadata": {
        "id": "2w023BdCpMuQ"
      },
      "execution_count": 8,
      "outputs": []
    },
    {
      "cell_type": "code",
      "source": [
        "print(df2.head())\n",
        "print(df2.shape)\n",
        "print(df2.info())\n",
        "print(df2.columns)"
      ],
      "metadata": {
        "colab": {
          "base_uri": "https://localhost:8080/"
        },
        "id": "_48zuU0QpSff",
        "outputId": "08ecf87d-d72f-47a0-9a1c-3a8de451208c"
      },
      "execution_count": 9,
      "outputs": [
        {
          "output_type": "stream",
          "name": "stdout",
          "text": [
            "                              Name                           Agency  \\\n",
            "0                      GEORGE KEYA    DIAMOND MARK INSURANCE AGENCY   \n",
            "1  MID ALLIANCE INSURANCE AGENCIES  MID ALLIANCE INSURANCE AGENCIES   \n",
            "2                       LEAH MUNGA                              NaN   \n",
            "3             GEORGE ODHIAMBO OUMA             GEORGE ODHIAMBO OUMA   \n",
            "4                     RAHAB MUKAMI                     RAHAB MUKAMI   \n",
            "\n",
            "     KYC Mobile                      KYC E-Mail   Status Created Date  \\\n",
            "0     722803690  diamondmarkinsurance@yahoo.com  Sign-up  13-JUN-2024   \n",
            "1  254722804746           gitaujamesk@gmail.com  Sign-up  31-JAN-2025   \n",
            "2           NaN                             NaN  Sign-up          NaN   \n",
            "3  254726173612              oushouma@gmail.com  Sign-up  06-FEB-2025   \n",
            "4  254725813778          rahab.mukami@yahoo.com  Sign-up  04-JUN-2024   \n",
            "\n",
            "   Signup Date    Sync Date  Days In Pipeline  Channel Reffered By  \\\n",
            "0  13-JUN-2024          NaN               345  Pending         NaN   \n",
            "1  31-JAN-2025  31-JAN-2025               113  Pending         NaN   \n",
            "2  12-JUL-2023          NaN               682  Pending         NaN   \n",
            "3  06-FEB-2025  06-FEB-2025               107  Pending         NaN   \n",
            "4  04-JUN-2024          NaN               354  Pending         NaN   \n",
            "\n",
            "                                     Comment Details Comment Due Date  \n",
            "0               Line currently busy, call back later        4/14/2025  \n",
            "1  Finalizing on setting up his agency then he wi...        4/18/2025  \n",
            "2                                                NaN              NaN  \n",
            "3                     Client is not yet ready to pay        4/15/2025  \n",
            "4                                                NaN              NaN  \n",
            "(132, 13)\n",
            "<class 'pandas.core.frame.DataFrame'>\n",
            "RangeIndex: 132 entries, 0 to 131\n",
            "Data columns (total 13 columns):\n",
            " #   Column            Non-Null Count  Dtype \n",
            "---  ------            --------------  ----- \n",
            " 0   Name              132 non-null    object\n",
            " 1   Agency            128 non-null    object\n",
            " 2   KYC Mobile        119 non-null    object\n",
            " 3   KYC E-Mail        129 non-null    object\n",
            " 4   Status            132 non-null    object\n",
            " 5   Created Date      124 non-null    object\n",
            " 6   Signup Date       132 non-null    object\n",
            " 7   Sync Date         32 non-null     object\n",
            " 8   Days In Pipeline  132 non-null    int64 \n",
            " 9   Channel           132 non-null    object\n",
            " 10  Reffered By       6 non-null      object\n",
            " 11  Comment Details   39 non-null     object\n",
            " 12  Comment Due Date  39 non-null     object\n",
            "dtypes: int64(1), object(12)\n",
            "memory usage: 13.5+ KB\n",
            "None\n",
            "Index(['Name', 'Agency', 'KYC Mobile', 'KYC E-Mail', 'Status', 'Created Date',\n",
            "       'Signup Date', 'Sync Date', 'Days In Pipeline', 'Channel',\n",
            "       'Reffered By', 'Comment Details', 'Comment Due Date'],\n",
            "      dtype='object')\n"
          ]
        }
      ]
    },
    {
      "cell_type": "code",
      "source": [
        "\n",
        "\n",
        "# --- Data Cleaning and Standardization ---\n",
        "\n",
        "# MQL Data (df)\n",
        "# Rename columns for clarity based on your sample data's structure\n",
        "# Adjust 'MQL_Internal_ID' and 'MQL_Date' if your actual column names/roles differ\n",
        "df.rename(columns={\n",
        "    '`': 'MQL_Internal_ID',\n",
        "    'q1aqa1111111111`': 'MQL_Date'\n",
        "}, inplace=True)\n",
        "\n",
        "# Clean 'Email' column: strip whitespace/newlines and convert to lowercase\n",
        "df['Email'] = df['Email'].astype(str).str.strip().str.replace('\\n', '', regex=False).str.lower()\n",
        "\n",
        "# Convert 'MQL_Date' to datetime objects (assuming DD/MM/YYYY format)\n",
        "# 'errors=coerce' will turn unparseable dates into NaT (Not a Time)\n",
        "df['MQL_Date'] = pd.to_datetime(df['MQL_Date'], dayfirst=True, errors='coerce')\n",
        "\n",
        "# Drop MQLs with missing essential data (Email or MQL_Date)\n",
        "df.dropna(subset=['MQL_Date', 'Email'], inplace=True)\n",
        "\n",
        "\n",
        "# Sign-up Data (df1, df2)\n",
        "# Concatenate the two sign-up dataframes into one\n",
        "consolidated_signup_df = pd.concat([df1, df2], ignore_index=True)\n",
        "\n",
        "# Clean 'KYC E-Mail' column: strip whitespace/newlines and convert to lowercase\n",
        "consolidated_signup_df['KYC E-Mail'] = consolidated_signup_df['KYC E-Mail'].astype(str).str.strip().str.replace('\\n', '', regex=False).str.lower()\n",
        "\n",
        "# Convert 'Signup Date' to datetime objects (assuming DD-MON-YYYY format)\n",
        "consolidated_signup_df['Signup Date'] = pd.to_datetime(consolidated_signup_df['Signup Date'], format='%d-%b-%Y', errors='coerce')\n",
        "\n",
        "# Drop sign-ups with missing essential data (KYC E-Mail or Signup Date)\n",
        "consolidated_signup_df.dropna(subset=['Signup Date', 'KYC E-Mail'], inplace=True)\n",
        "\n",
        "# Deduplicate sign-ups: keep the earliest Signup Date for each unique email\n",
        "consolidated_signup_df.sort_values(by='Signup Date', inplace=True)\n",
        "consolidated_signup_df.drop_duplicates(subset='KYC E-Mail', keep='first', inplace=True)\n",
        "\n",
        "\n",
        "# --- Data Merging/Linking ---\n",
        "\n",
        "# Perform a left merge: Link MQLs to their sign-up records.\n",
        "# All MQLs are kept, and sign-up info is added if a match exists.\n",
        "mql_signup_analysis_df = df.merge(\n",
        "    consolidated_signup_df[['KYC E-Mail', 'Signup Date']],\n",
        "    left_on='Email',\n",
        "    right_on='KYC E-Mail',\n",
        "    how='left'\n",
        ")\n",
        "\n",
        "# Create a boolean column to easily identify converted MQLs\n",
        "mql_signup_analysis_df['Is_Signed_Up'] = mql_signup_analysis_df['Signup Date'].notna()\n",
        "\n",
        "\n",
        "# --- Conversion Rate Calculation ---\n",
        "\n",
        "total_mqls = len(df) # The total count of cleaned MQLs\n",
        "converted_mqls = mql_signup_analysis_df['Is_Signed_Up'].sum() # Count of MQLs with a matched signup date\n",
        "\n",
        "conversion_rate_signup = (converted_mqls / total_mqls) * 100 if total_mqls > 0 else 0\n",
        "\n",
        "print(f\"--- MQL to Sign-up Conversion Analysis (Overall) ---\")\n",
        "print(f\"Total MQLs: {total_mqls}\")\n",
        "print(f\"MQLs Converted to Sign-up: {converted_mqls}\")\n",
        "print(f\"**Conversion Rate (MQL to Sign-up): {conversion_rate_signup:.2f}%**\\n\")\n",
        "\n",
        "\n",
        "# --- Aging Analysis (Time to Convert) ---\n",
        "\n",
        "# Filter for MQLs that successfully converted and have a logical signup date (not before MQL date)\n",
        "converted_leads_for_aging = mql_signup_analysis_df[\n",
        "    mql_signup_analysis_df['Is_Signed_Up'] &\n",
        "    (mql_signup_analysis_df['Signup Date'] >= mql_signup_analysis_df['MQL_Date'])\n",
        "].copy() # .copy() to avoid SettingWithCopyWarning\n",
        "\n",
        "if not converted_leads_for_aging.empty:\n",
        "    # Calculate the difference in days\n",
        "    converted_leads_for_aging['Aging_Days'] = (converted_leads_for_aging['Signup Date'] - converted_leads_for_aging['MQL_Date']).dt.days\n",
        "\n",
        "    average_aging_days = converted_leads_for_aging['Aging_Days'].mean()\n",
        "    median_aging_days = converted_leads_for_aging['Aging_Days'].median()\n",
        "    min_aging_days = converted_leads_for_aging['Aging_Days'].min()\n",
        "    max_aging_days = converted_leads_for_aging['Aging_Days'].max()\n",
        "\n",
        "    print(f\"--- Time to Sign-up (Aging) for Converted MQLs ---\")\n",
        "    print(f\"Average: {average_aging_days:.2f} days\")\n",
        "    print(f\"Median: {median_aging_days:.2f} days\")\n",
        "    print(f\"Minimum: {min_aging_days} days\")\n",
        "    print(f\"Maximum: {max_aging_days} days\")\n",
        "else:\n",
        "    print(\"No converted MQLs found with a logical signup date to calculate aging.\")"
      ],
      "metadata": {
        "colab": {
          "base_uri": "https://localhost:8080/"
        },
        "id": "r1_ncwREpWVh",
        "outputId": "b060c629-b06c-442c-912d-b5e8f03a9907"
      },
      "execution_count": 10,
      "outputs": [
        {
          "output_type": "stream",
          "name": "stdout",
          "text": [
            "--- MQL to Sign-up Conversion Analysis (Overall) ---\n",
            "Total MQLs: 115\n",
            "MQLs Converted to Sign-up: 5\n",
            "**Conversion Rate (MQL to Sign-up): 4.35%**\n",
            "\n",
            "--- Time to Sign-up (Aging) for Converted MQLs ---\n",
            "Average: 27.75 days\n",
            "Median: 28.00 days\n",
            "Minimum: 1 days\n",
            "Maximum: 54 days\n"
          ]
        }
      ]
    },
    {
      "cell_type": "code",
      "source": [
        "# Assuming the previous code snippet has been executed and 'converted_leads_for_aging' DataFrame exists\n",
        "\n",
        "# Display the relevant columns for each converted MQL\n",
        "if not converted_leads_for_aging.empty:\n",
        "    print(\"\\n--- Details of Each Converted MQL (MQL to Sign-up) ---\")\n",
        "    # Select and display the specific columns requested\n",
        "    print(converted_leads_for_aging[['Email', 'MQL_Date', 'Signup Date', 'Aging_Days']].to_string(index=False))\n",
        "else:\n",
        "    print(\"\\nNo MQLs converted to Sign-up (with logical dates) to display individual details.\")\n",
        ""
      ],
      "metadata": {
        "colab": {
          "base_uri": "https://localhost:8080/"
        },
        "id": "NyoAelAgrryr",
        "outputId": "6f3a94f8-8cba-411e-8b0d-4bbe21022c5a"
      },
      "execution_count": 11,
      "outputs": [
        {
          "output_type": "stream",
          "name": "stdout",
          "text": [
            "\n",
            "--- Details of Each Converted MQL (MQL to Sign-up) ---\n",
            "                 Email   MQL_Date Signup Date  Aging_Days\n",
            "kendagorkips@gmail.com 2025-01-26  2025-03-21          54\n",
            "    oushouma@gmail.com 2025-02-02  2025-02-06           4\n",
            "    jwmugo@outlook.com 2025-02-16  2025-04-09          52\n",
            "kendagorkips@gmail.com 2025-03-20  2025-03-21           1\n"
          ]
        }
      ]
    },
    {
      "cell_type": "code",
      "source": [
        "# Assuming the previous code snippet has been executed and 'converted_leads_for_aging' DataFrame exists\n",
        "\n",
        "# Display the relevant columns for each converted MQL, including names\n",
        "if not converted_leads_for_aging.empty:\n",
        "    print(\"\\n--- Details of Each Converted MQL (MQL to Sign-up) with Names ---\")\n",
        "    # Select and display the specific columns, now including 'First Name' and 'Second Name'\n",
        "    print(converted_leads_for_aging[['First Name', 'Second Name', 'Email', 'MQL_Date', 'Signup Date', 'Aging_Days']].to_string(index=False))\n",
        "else:\n",
        "    print(\"\\nNo MQLs converted to Sign-up (with logical dates) to display individual details.\")"
      ],
      "metadata": {
        "colab": {
          "base_uri": "https://localhost:8080/"
        },
        "id": "X7WiImqXrsxH",
        "outputId": "d75091c2-7a92-4470-c992-243021f772a3"
      },
      "execution_count": 12,
      "outputs": [
        {
          "output_type": "stream",
          "name": "stdout",
          "text": [
            "\n",
            "--- Details of Each Converted MQL (MQL to Sign-up) with Names ---\n",
            "First Name Second Name                  Email   MQL_Date Signup Date  Aging_Days\n",
            "     Erick    Kipyegon kendagorkips@gmail.com 2025-01-26  2025-03-21          54\n",
            "    George    Odhiambo     oushouma@gmail.com 2025-02-02  2025-02-06           4\n",
            "      Jane        Mugo     jwmugo@outlook.com 2025-02-16  2025-04-09          52\n",
            "     Erick    Kipyegon kendagorkips@gmail.com 2025-03-20  2025-03-21           1\n"
          ]
        }
      ]
    },
    {
      "cell_type": "code",
      "source": [],
      "metadata": {
        "id": "mYkbJSWIsm3T"
      },
      "execution_count": null,
      "outputs": []
    },
    {
      "cell_type": "code",
      "source": [],
      "metadata": {
        "id": "cky66PVnsAjE"
      },
      "execution_count": null,
      "outputs": []
    }
  ]
}